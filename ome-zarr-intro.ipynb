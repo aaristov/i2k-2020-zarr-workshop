{
 "cells": [
  {
   "cell_type": "markdown",
   "metadata": {},
   "source": [
    "# Introduction to Zarr and ome-zarr\n",
    "\n",
    "Zarr is a format for the storage of chunked, compressed, N-dimensional arrays.\n",
    "Arrays can be organised into hierarchical groups with associated metadata. We are working on [OME-zarr](https://ngff.openmicroscopy.org/), a specification for how to represent Images, HCS Plates, ROIs and other data in Zarr format\n"
   ]
  },
  {
   "cell_type": "markdown",
   "metadata": {},
   "source": [
    "# Zarr\n",
    "\n",
    "## Arrays\n",
    "\n",
    "Zarr arrays are stored as a directory that contains binary 'chunks' of data and a JSON file `.zarray` that specifies the chunks metadata. For example: \n",
    "\n",
    "```\n",
    "# .zarray\n",
    "{\n",
    "    \"chunks\": [\n",
    "        1,\n",
    "        1,\n",
    "        1,\n",
    "        256,\n",
    "        336\n",
    "    ],\n",
    "    \"compressor\": {\n",
    "        \"blocksize\": 0,\n",
    "        \"clevel\": 5,\n",
    "        \"cname\": \"lz4\",\n",
    "        \"id\": \"blosc\",\n",
    "        \"shuffle\": 1\n",
    "    },\n",
    "    \"dtype\": \"<i8\",\n",
    "    \"fill_value\": 0,\n",
    "    \"filters\": null,\n",
    "    \"order\": \"C\",\n",
    "    \"shape\": [\n",
    "        1,\n",
    "        1,\n",
    "        1,\n",
    "        1024,\n",
    "        1344\n",
    "    ],\n",
    "    \"zarr_format\": 2\n",
    "}\n",
    "```\n",
    "Chunks are named according to their index in the N-dimensional array. For example, in the 5D array above, chunks would be named:\n",
    "\n",
    "```\n",
    "# chunks of 5D array\n",
    "0.0.0.0.0\n",
    "0.0.0.0.1\n",
    "0.0.0.0.3\n",
    "0.0.0.0.4\n",
    "0.0.0.1.0\n",
    "0.0.0.1.1\n",
    "...\n",
    "```\n",
    "\n",
    "## Groups\n",
    "\n",
    "Zarr groups are directories that contain arrays or other groups, and a JSON file `.attrs` that contains data about the group and it's contents.\n"
   ]
  },
  {
   "cell_type": "markdown",
   "metadata": {},
   "source": [
    "# OME zarr\n",
    "\n",
    "## Images\n",
    "\n",
    "In OME zarr, Images are represented by a group with `multiscales` metadata. It may also contain `omero` metadata if available. The `multiscales` section will list 1 or more multiscale `datasets`, with a `path` to each zarr 5D `array` at different resolutions. Array dimensions are Time, Channel, Z, Y, X (`t.c.z.y.x`).\n",
    "\n",
    "```\n",
    "# image.zarr/.zattrs\n",
    "{\n",
    "    \"multiscales\": [\n",
    "        {\n",
    "            \"datasets\": [\n",
    "                {\n",
    "                    \"path\": \"0\"             # Path to Array containing full-size Image\n",
    "                },\n",
    "                {\n",
    "                    \"path\": \"1\"             # Path to Array containing sub-resolution Image\n",
    "                },\n",
    "                {\n",
    "                    \"path\": \"2\"             # Path to Array containing sub-resolution Image\n",
    "                }\n",
    "            ],\n",
    "            \"version\": \"0.1\"\n",
    "        }\n",
    "    ],\n",
    "    \"omero\": {\n",
    "        \"channels\": [\n",
    "            {\n",
    "                \"active\": true,\n",
    "                \"coefficient\": 1.0,\n",
    "                \"color\": \"FF0000\",\n",
    "                \"family\": \"linear\",\n",
    "                \"inverted\": false,\n",
    "                \"label\": \"Red\",\n",
    "                \"window\": {\n",
    "                    \"end\": 1500.0,\n",
    "                    \"max\": 65535.0,\n",
    "                    \"min\": 0.0,\n",
    "                    \"start\": 0.0\n",
    "                }\n",
    "            }\n",
    "        ],\n",
    "        \"id\": 1,\n",
    "        \"rdefs\": {\n",
    "            \"defaultT\": 0,\n",
    "            \"defaultZ\": 0,\n",
    "            \"model\": \"color\"\n",
    "        }\n",
    "    }\n",
    "}\n",
    "```\n",
    "\n",
    "Each Image array is found under the specified `path`, e.g. for `\"path\": \"0\"`:\n",
    "\n",
    "```\n",
    "# image.zarr/0/\n",
    ".zarray\n",
    "0.0.0.0.0\n",
    "0.0.0.0.1\n",
    "0.0.0.1.0\n",
    "0.0.0.1.1\n",
    "...\n",
    "```"
   ]
  },
  {
   "cell_type": "markdown",
   "metadata": {},
   "source": [
    "## Loading sample OME zarr Images\n",
    "\n",
    "A list of example Images (from the IDR), converted to `OME zarr` and hosted at https://s3.embassy.ebi.ac.uk is available at (blog.openmicroscopy.org)[https://blog.openmicroscopy.org/file-formats/community/2020/11/04/zarr-data/]. You can 'copy' links to Images from the table.\n"
   ]
  },
  {
   "cell_type": "code",
   "execution_count": null,
   "metadata": {},
   "outputs": [],
   "source": [
    "import dask.array as da\n",
    "from IPython.display import display, Image\n",
    "from matplotlib import pyplot as plt\n",
    "import requests\n",
    "import zarr"
   ]
  },
  {
   "cell_type": "code",
   "execution_count": null,
   "metadata": {},
   "outputs": [],
   "source": [
    "imagepath = \"https://s3.embassy.ebi.ac.uk/idr/zarr/v0.1/9822152.zarr\""
   ]
  },
  {
   "cell_type": "code",
   "execution_count": null,
   "metadata": {
    "scrolled": false
   },
   "outputs": [],
   "source": [
    "# Load the top-level .zattrs Image metadata\n",
    "zattrs = requests.get(f'{imagepath}/.zattrs').json()\n",
    "# Get the path for each resolution of the first multiscale dataset  \n",
    "resolutions = [d['path'] for d in zattrs['multiscales'][0]['datasets']]\n",
    "\n",
    "darrays = {}\n",
    "for resolution in resolutions:\n",
    "    print(f'Resolution: \"{resolution}\"')\n",
    "    # Create a 'dask' array (like numpy array but with lazy loading of data)\n",
    "    a = da.from_zarr(f'{imagepath}/{resolution}')\n",
    "    darrays[resolution] = a\n",
    "    display(a)"
   ]
  },
  {
   "cell_type": "markdown",
   "metadata": {},
   "source": [
    "Display the smallest resolution image. In this image `T`, `C`, `Z` are all singleton dimensions"
   ]
  },
  {
   "cell_type": "code",
   "execution_count": null,
   "metadata": {},
   "outputs": [],
   "source": [
    "r = resolutions[-1]\n",
    "a0 = darrays[r][0, 0, 0, :, :]\n",
    "print(r, a0.shape)\n",
    "plt.figure(figsize=(10, 10))\n",
    "plt.imshow(a0, cmap='gray')\n",
    "plt.title(r)"
   ]
  },
  {
   "cell_type": "markdown",
   "metadata": {},
   "source": [
    "As you can see it very low resolution, so let's look at the 3rd smallest resolution instead."
   ]
  },
  {
   "cell_type": "code",
   "execution_count": null,
   "metadata": {},
   "outputs": [],
   "source": [
    "r = resolutions[-3]\n",
    "a0 = darrays[r][0, 0, 0, :, :]\n",
    "print(r, a0.shape)\n",
    "plt.figure(figsize=(10, 10))\n",
    "plt.imshow(a0, cmap='gray')\n",
    "plt.title(r)"
   ]
  },
  {
   "cell_type": "markdown",
   "metadata": {},
   "source": [
    "Now \"zoom in\" to the centre of image by showing the same number of pixels but at the next resolution up"
   ]
  },
  {
   "cell_type": "code",
   "execution_count": null,
   "metadata": {},
   "outputs": [],
   "source": [
    "dy = int(a0.shape[0] / 2)\n",
    "dx = int(a0.shape[1] / 2)\n",
    "\n",
    "for r in reversed(resolutions[:-3]):\n",
    "    a = darrays[r][0, 0, 0, :, :]\n",
    "    # Change the following line to zoom into a different location\n",
    "    cy, cx = int(a.shape[0] / 2), int(a.shape[1] / 2)\n",
    "    print(f'resolution: {r}, cy: {cy}, cx: {cx}')\n",
    "    # Crop the dask array - still doesn't load remote data yet\n",
    "    region = a[cy-dy:cy+dy, cx-dx:cx+dx]\n",
    "    plt.figure(figsize=(10, 10))\n",
    "    # Show the image - loading remote data\n",
    "    plt.imshow(region, cmap='gray')\n",
    "    plt.title(r)\n",
    "    plt.show()"
   ]
  },
  {
   "cell_type": "markdown",
   "metadata": {},
   "source": [
    "## Labels\n",
    "\n",
    "Labels (or Masks) are pixel-based Regions of Interest, such as image segmentations. In OME zarr, labels are stored in a `labels` directory within the image.zarr directory. Labels are 5D zarr arrays corresponding to the size of the parent image, with background values of `0` and each label represented by a different pixel value.\n",
    "\n",
    "Multiple `arrays` of labels can be stored under the labels group, as defined in the `labels/.zattrs` JSON:\n",
    "\n",
    "```\n",
    "# image.zarr/labels/.zattrs\n",
    "\n",
    "{\n",
    "    \"labels\": [\n",
    "        \"0\"\n",
    "    ]\n",
    "}\n",
    "```\n",
    "\n",
    "This indicates a labels array at `image.zarr/labels/0/`.\n",
    "\n",
    "\n"
   ]
  },
  {
   "cell_type": "code",
   "execution_count": null,
   "metadata": {},
   "outputs": [],
   "source": [
    "imagepath = 'https://s3.embassy.ebi.ac.uk/idr/zarr/v0.1/6001247.zarr'\n",
    "zattrs = requests.get(f'{imagepath}/labels/.zattrs').json()\n",
    "print('zattrs', zattrs)\n",
    "\n",
    "label_path = zattrs['labels'][0]\n",
    "labels_5d = da.from_zarr(f'{imagepath}/labels/{label_path}/')\n",
    "print(labels_5d.shape)\n",
    "size_z = labels_5d.shape[2]\n",
    "labels_2d = labels_5d[0, 0, size_z // 3, :, :]\n",
    "print('labels_2d', labels_2d.shape)\n",
    "plt.figure(figsize=(10, 10))\n",
    "# Show the image - loading remote data\n",
    "plt.imshow(labels_2d, cmap='gray')\n",
    "plt.show()"
   ]
  },
  {
   "cell_type": "markdown",
   "metadata": {
    "collapsed": true
   },
   "source": [
    "### License\n",
    "Copyright (C) 2020 University of Dundee. All Rights Reserved.\n",
    "This program is free software; you can redistribute it and/or modify it\n",
    "under the terms of the GNU General Public License as published by the\n",
    "Free Software Foundation; either version 2 of the License, or\n",
    "(at your option) any later version.\n",
    "This program is distributed in the hope that it will be useful, but\n",
    "WITHOUT ANY WARRANTY; without even the implied warranty of MERCHANTABILITY\n",
    "or FITNESS FOR A PARTICULAR PURPOSE. See the GNU General Public License for\n",
    "more details. You should have received a copy of the GNU General\n",
    "Public License along with this program; if not, write to the\n",
    "Free Software Foundation,\n",
    "Inc., 51 Franklin Street, Fifth Floor, Boston, MA 02110-1301 USA."
   ]
  }
 ],
 "metadata": {
  "kernelspec": {
   "display_name": "Python 3",
   "language": "python",
   "name": "python3"
  },
  "language_info": {
   "codemirror_mode": {
    "name": "ipython",
    "version": 3
   },
   "file_extension": ".py",
   "mimetype": "text/x-python",
   "name": "python",
   "nbconvert_exporter": "python",
   "pygments_lexer": "ipython3",
   "version": "3.7.8"
  }
 },
 "nbformat": 4,
 "nbformat_minor": 4
}
